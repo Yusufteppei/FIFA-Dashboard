{
 "cells": [
  {
   "cell_type": "code",
   "execution_count": 1,
   "metadata": {},
   "outputs": [],
   "source": [
    "import pandas as pd"
   ]
  },
  {
   "cell_type": "code",
   "execution_count": 2,
   "metadata": {},
   "outputs": [
    {
     "name": "stderr",
     "output_type": "stream",
     "text": [
      "/tmp/ipykernel_58078/3399434548.py:1: DtypeWarning: Columns (25,108) have mixed types. Specify dtype option on import or set low_memory=False.\n",
      "  df = pd.read_csv('players_22.csv')\n"
     ]
    }
   ],
   "source": [
    "df = pd.read_csv('players_22.csv')"
   ]
  },
  {
   "cell_type": "code",
   "execution_count": 3,
   "metadata": {},
   "outputs": [
    {
     "data": {
      "text/html": [
       "<div>\n",
       "<style scoped>\n",
       "    .dataframe tbody tr th:only-of-type {\n",
       "        vertical-align: middle;\n",
       "    }\n",
       "\n",
       "    .dataframe tbody tr th {\n",
       "        vertical-align: top;\n",
       "    }\n",
       "\n",
       "    .dataframe thead th {\n",
       "        text-align: right;\n",
       "    }\n",
       "</style>\n",
       "<table border=\"1\" class=\"dataframe\">\n",
       "  <thead>\n",
       "    <tr style=\"text-align: right;\">\n",
       "      <th></th>\n",
       "      <th>sofifa_id</th>\n",
       "      <th>player_url</th>\n",
       "      <th>short_name</th>\n",
       "      <th>long_name</th>\n",
       "      <th>player_positions</th>\n",
       "      <th>overall</th>\n",
       "      <th>potential</th>\n",
       "      <th>value_eur</th>\n",
       "      <th>wage_eur</th>\n",
       "      <th>age</th>\n",
       "      <th>...</th>\n",
       "      <th>lcb</th>\n",
       "      <th>cb</th>\n",
       "      <th>rcb</th>\n",
       "      <th>rb</th>\n",
       "      <th>gk</th>\n",
       "      <th>player_face_url</th>\n",
       "      <th>club_logo_url</th>\n",
       "      <th>club_flag_url</th>\n",
       "      <th>nation_logo_url</th>\n",
       "      <th>nation_flag_url</th>\n",
       "    </tr>\n",
       "  </thead>\n",
       "  <tbody>\n",
       "    <tr>\n",
       "      <th>0</th>\n",
       "      <td>158023</td>\n",
       "      <td>https://sofifa.com/player/158023/lionel-messi/...</td>\n",
       "      <td>L. Messi</td>\n",
       "      <td>Lionel Andrés Messi Cuccittini</td>\n",
       "      <td>RW, ST, CF</td>\n",
       "      <td>93</td>\n",
       "      <td>93</td>\n",
       "      <td>78000000.0</td>\n",
       "      <td>320000.0</td>\n",
       "      <td>34</td>\n",
       "      <td>...</td>\n",
       "      <td>50+3</td>\n",
       "      <td>50+3</td>\n",
       "      <td>50+3</td>\n",
       "      <td>61+3</td>\n",
       "      <td>19+3</td>\n",
       "      <td>https://cdn.sofifa.net/players/158/023/22_120.png</td>\n",
       "      <td>https://cdn.sofifa.net/teams/73/60.png</td>\n",
       "      <td>https://cdn.sofifa.net/flags/fr.png</td>\n",
       "      <td>https://cdn.sofifa.net/teams/1369/60.png</td>\n",
       "      <td>https://cdn.sofifa.net/flags/ar.png</td>\n",
       "    </tr>\n",
       "    <tr>\n",
       "      <th>1</th>\n",
       "      <td>188545</td>\n",
       "      <td>https://sofifa.com/player/188545/robert-lewand...</td>\n",
       "      <td>R. Lewandowski</td>\n",
       "      <td>Robert Lewandowski</td>\n",
       "      <td>ST</td>\n",
       "      <td>92</td>\n",
       "      <td>92</td>\n",
       "      <td>119500000.0</td>\n",
       "      <td>270000.0</td>\n",
       "      <td>32</td>\n",
       "      <td>...</td>\n",
       "      <td>60+3</td>\n",
       "      <td>60+3</td>\n",
       "      <td>60+3</td>\n",
       "      <td>61+3</td>\n",
       "      <td>19+3</td>\n",
       "      <td>https://cdn.sofifa.net/players/188/545/22_120.png</td>\n",
       "      <td>https://cdn.sofifa.net/teams/21/60.png</td>\n",
       "      <td>https://cdn.sofifa.net/flags/de.png</td>\n",
       "      <td>https://cdn.sofifa.net/teams/1353/60.png</td>\n",
       "      <td>https://cdn.sofifa.net/flags/pl.png</td>\n",
       "    </tr>\n",
       "    <tr>\n",
       "      <th>2</th>\n",
       "      <td>20801</td>\n",
       "      <td>https://sofifa.com/player/20801/c-ronaldo-dos-...</td>\n",
       "      <td>Cristiano Ronaldo</td>\n",
       "      <td>Cristiano Ronaldo dos Santos Aveiro</td>\n",
       "      <td>ST, LW</td>\n",
       "      <td>91</td>\n",
       "      <td>91</td>\n",
       "      <td>45000000.0</td>\n",
       "      <td>270000.0</td>\n",
       "      <td>36</td>\n",
       "      <td>...</td>\n",
       "      <td>53+3</td>\n",
       "      <td>53+3</td>\n",
       "      <td>53+3</td>\n",
       "      <td>60+3</td>\n",
       "      <td>20+3</td>\n",
       "      <td>https://cdn.sofifa.net/players/020/801/22_120.png</td>\n",
       "      <td>https://cdn.sofifa.net/teams/11/60.png</td>\n",
       "      <td>https://cdn.sofifa.net/flags/gb-eng.png</td>\n",
       "      <td>https://cdn.sofifa.net/teams/1354/60.png</td>\n",
       "      <td>https://cdn.sofifa.net/flags/pt.png</td>\n",
       "    </tr>\n",
       "    <tr>\n",
       "      <th>3</th>\n",
       "      <td>190871</td>\n",
       "      <td>https://sofifa.com/player/190871/neymar-da-sil...</td>\n",
       "      <td>Neymar Jr</td>\n",
       "      <td>Neymar da Silva Santos Júnior</td>\n",
       "      <td>LW, CAM</td>\n",
       "      <td>91</td>\n",
       "      <td>91</td>\n",
       "      <td>129000000.0</td>\n",
       "      <td>270000.0</td>\n",
       "      <td>29</td>\n",
       "      <td>...</td>\n",
       "      <td>50+3</td>\n",
       "      <td>50+3</td>\n",
       "      <td>50+3</td>\n",
       "      <td>62+3</td>\n",
       "      <td>20+3</td>\n",
       "      <td>https://cdn.sofifa.net/players/190/871/22_120.png</td>\n",
       "      <td>https://cdn.sofifa.net/teams/73/60.png</td>\n",
       "      <td>https://cdn.sofifa.net/flags/fr.png</td>\n",
       "      <td>NaN</td>\n",
       "      <td>https://cdn.sofifa.net/flags/br.png</td>\n",
       "    </tr>\n",
       "    <tr>\n",
       "      <th>4</th>\n",
       "      <td>192985</td>\n",
       "      <td>https://sofifa.com/player/192985/kevin-de-bruy...</td>\n",
       "      <td>K. De Bruyne</td>\n",
       "      <td>Kevin De Bruyne</td>\n",
       "      <td>CM, CAM</td>\n",
       "      <td>91</td>\n",
       "      <td>91</td>\n",
       "      <td>125500000.0</td>\n",
       "      <td>350000.0</td>\n",
       "      <td>30</td>\n",
       "      <td>...</td>\n",
       "      <td>69+3</td>\n",
       "      <td>69+3</td>\n",
       "      <td>69+3</td>\n",
       "      <td>75+3</td>\n",
       "      <td>21+3</td>\n",
       "      <td>https://cdn.sofifa.net/players/192/985/22_120.png</td>\n",
       "      <td>https://cdn.sofifa.net/teams/10/60.png</td>\n",
       "      <td>https://cdn.sofifa.net/flags/gb-eng.png</td>\n",
       "      <td>https://cdn.sofifa.net/teams/1325/60.png</td>\n",
       "      <td>https://cdn.sofifa.net/flags/be.png</td>\n",
       "    </tr>\n",
       "  </tbody>\n",
       "</table>\n",
       "<p>5 rows × 110 columns</p>\n",
       "</div>"
      ],
      "text/plain": [
       "   sofifa_id                                         player_url  \\\n",
       "0     158023  https://sofifa.com/player/158023/lionel-messi/...   \n",
       "1     188545  https://sofifa.com/player/188545/robert-lewand...   \n",
       "2      20801  https://sofifa.com/player/20801/c-ronaldo-dos-...   \n",
       "3     190871  https://sofifa.com/player/190871/neymar-da-sil...   \n",
       "4     192985  https://sofifa.com/player/192985/kevin-de-bruy...   \n",
       "\n",
       "          short_name                            long_name player_positions  \\\n",
       "0           L. Messi       Lionel Andrés Messi Cuccittini       RW, ST, CF   \n",
       "1     R. Lewandowski                   Robert Lewandowski               ST   \n",
       "2  Cristiano Ronaldo  Cristiano Ronaldo dos Santos Aveiro           ST, LW   \n",
       "3          Neymar Jr        Neymar da Silva Santos Júnior          LW, CAM   \n",
       "4       K. De Bruyne                      Kevin De Bruyne          CM, CAM   \n",
       "\n",
       "   overall  potential    value_eur  wage_eur  age  ...   lcb    cb   rcb  \\\n",
       "0       93         93   78000000.0  320000.0   34  ...  50+3  50+3  50+3   \n",
       "1       92         92  119500000.0  270000.0   32  ...  60+3  60+3  60+3   \n",
       "2       91         91   45000000.0  270000.0   36  ...  53+3  53+3  53+3   \n",
       "3       91         91  129000000.0  270000.0   29  ...  50+3  50+3  50+3   \n",
       "4       91         91  125500000.0  350000.0   30  ...  69+3  69+3  69+3   \n",
       "\n",
       "     rb    gk                                    player_face_url  \\\n",
       "0  61+3  19+3  https://cdn.sofifa.net/players/158/023/22_120.png   \n",
       "1  61+3  19+3  https://cdn.sofifa.net/players/188/545/22_120.png   \n",
       "2  60+3  20+3  https://cdn.sofifa.net/players/020/801/22_120.png   \n",
       "3  62+3  20+3  https://cdn.sofifa.net/players/190/871/22_120.png   \n",
       "4  75+3  21+3  https://cdn.sofifa.net/players/192/985/22_120.png   \n",
       "\n",
       "                            club_logo_url  \\\n",
       "0  https://cdn.sofifa.net/teams/73/60.png   \n",
       "1  https://cdn.sofifa.net/teams/21/60.png   \n",
       "2  https://cdn.sofifa.net/teams/11/60.png   \n",
       "3  https://cdn.sofifa.net/teams/73/60.png   \n",
       "4  https://cdn.sofifa.net/teams/10/60.png   \n",
       "\n",
       "                             club_flag_url  \\\n",
       "0      https://cdn.sofifa.net/flags/fr.png   \n",
       "1      https://cdn.sofifa.net/flags/de.png   \n",
       "2  https://cdn.sofifa.net/flags/gb-eng.png   \n",
       "3      https://cdn.sofifa.net/flags/fr.png   \n",
       "4  https://cdn.sofifa.net/flags/gb-eng.png   \n",
       "\n",
       "                            nation_logo_url  \\\n",
       "0  https://cdn.sofifa.net/teams/1369/60.png   \n",
       "1  https://cdn.sofifa.net/teams/1353/60.png   \n",
       "2  https://cdn.sofifa.net/teams/1354/60.png   \n",
       "3                                       NaN   \n",
       "4  https://cdn.sofifa.net/teams/1325/60.png   \n",
       "\n",
       "                       nation_flag_url  \n",
       "0  https://cdn.sofifa.net/flags/ar.png  \n",
       "1  https://cdn.sofifa.net/flags/pl.png  \n",
       "2  https://cdn.sofifa.net/flags/pt.png  \n",
       "3  https://cdn.sofifa.net/flags/br.png  \n",
       "4  https://cdn.sofifa.net/flags/be.png  \n",
       "\n",
       "[5 rows x 110 columns]"
      ]
     },
     "execution_count": 3,
     "metadata": {},
     "output_type": "execute_result"
    }
   ],
   "source": [
    "df.head()"
   ]
  },
  {
   "cell_type": "code",
   "execution_count": 11,
   "metadata": {},
   "outputs": [
    {
     "data": {
      "text/plain": [
       "Index(['sofifa_id', 'player_url', 'short_name', 'long_name',\n",
       "       'player_positions', 'overall', 'potential', 'value_eur', 'wage_eur',\n",
       "       'age', 'dob', 'height_cm', 'weight_kg', 'club_team_id', 'club_name',\n",
       "       'league_name', 'league_level', 'club_position', 'club_jersey_number',\n",
       "       'club_loaned_from', 'club_joined', 'club_contract_valid_until',\n",
       "       'nationality_id', 'nationality_name', 'nation_team_id',\n",
       "       'nation_position', 'nation_jersey_number', 'preferred_foot',\n",
       "       'weak_foot', 'skill_moves'],\n",
       "      dtype='object')"
      ]
     },
     "execution_count": 11,
     "metadata": {},
     "output_type": "execute_result"
    }
   ],
   "source": [
    "df.columns[:30]"
   ]
  },
  {
   "cell_type": "code",
   "execution_count": 10,
   "metadata": {},
   "outputs": [
    {
     "data": {
      "text/plain": [
       "Index(['international_reputation', 'work_rate', 'body_type', 'real_face',\n",
       "       'release_clause_eur', 'player_tags', 'player_traits', 'pace',\n",
       "       'shooting', 'passing', 'dribbling', 'defending', 'physic',\n",
       "       'attacking_crossing', 'attacking_finishing',\n",
       "       'attacking_heading_accuracy', 'attacking_short_passing',\n",
       "       'attacking_volleys', 'skill_dribbling', 'skill_curve',\n",
       "       'skill_fk_accuracy', 'skill_long_passing', 'skill_ball_control',\n",
       "       'movement_acceleration', 'movement_sprint_speed', 'movement_agility',\n",
       "       'movement_reactions', 'movement_balance', 'power_shot_power',\n",
       "       'power_jumping'],\n",
       "      dtype='object')"
      ]
     },
     "execution_count": 10,
     "metadata": {},
     "output_type": "execute_result"
    }
   ],
   "source": [
    "df.columns[30:60]"
   ]
  },
  {
   "cell_type": "code",
   "execution_count": 25,
   "metadata": {},
   "outputs": [
    {
     "data": {
      "text/plain": [
       "0        85.8\n",
       "1        86.0\n",
       "2        87.6\n",
       "3        80.6\n",
       "4        81.4\n",
       "         ... \n",
       "19234    41.2\n",
       "19235    43.2\n",
       "19236    40.0\n",
       "19237    38.0\n",
       "19238    40.8\n",
       "Name: attacking, Length: 19239, dtype: float64"
      ]
     },
     "execution_count": 25,
     "metadata": {},
     "output_type": "execute_result"
    }
   ],
   "source": [
    "df['attacking'] = (df['attacking_crossing'] + df['attacking_finishing'] + df['attacking_heading_accuracy'] + df['attacking_short_passing'] + df['attacking_volleys'])/5\n",
    "df['attacking']"
   ]
  },
  {
   "cell_type": "code",
   "execution_count": 22,
   "metadata": {},
   "outputs": [
    {
     "data": {
      "text/plain": [
       "0        94.0\n",
       "1        81.4\n",
       "2        83.6\n",
       "3        89.2\n",
       "4        88.0\n",
       "         ... \n",
       "19234    42.6\n",
       "19235    43.4\n",
       "19236    43.8\n",
       "19237    38.0\n",
       "19238    41.0\n",
       "Name: skill, Length: 19239, dtype: float64"
      ]
     },
     "execution_count": 22,
     "metadata": {},
     "output_type": "execute_result"
    }
   ],
   "source": [
    "df['skill'] = ( df['skill_dribbling'] + df['skill_curve'] + df['skill_fk_accuracy'] + df['skill_long_passing'] + df['skill_ball_control'])/5\n",
    "df['skill']"
   ]
  },
  {
   "cell_type": "code",
   "execution_count": 21,
   "metadata": {},
   "outputs": [
    {
     "data": {
      "text/plain": [
       "0        90.2\n",
       "1        81.6\n",
       "2        85.4\n",
       "3        90.2\n",
       "4        80.0\n",
       "         ... \n",
       "19234    58.8\n",
       "19235    60.0\n",
       "19236    56.6\n",
       "19237    65.8\n",
       "19238    68.2\n",
       "Name: movement, Length: 19239, dtype: float64"
      ]
     },
     "execution_count": 21,
     "metadata": {},
     "output_type": "execute_result"
    }
   ],
   "source": [
    "df['movement'] = (df['movement_acceleration'] + df['movement_sprint_speed'] + df['movement_agility'] + df['movement_reactions'] + df['movement_balance'])/5\n",
    "df['movement']"
   ]
  },
  {
   "cell_type": "code",
   "execution_count": 20,
   "metadata": {},
   "outputs": [
    {
     "data": {
      "text/plain": [
       "0        77.8\n",
       "1        84.8\n",
       "2        87.2\n",
       "3        71.8\n",
       "4        81.6\n",
       "         ... \n",
       "19234    47.0\n",
       "19235    48.8\n",
       "19236    49.4\n",
       "19237    45.8\n",
       "19238    49.0\n",
       "Name: power, Length: 19239, dtype: float64"
      ]
     },
     "execution_count": 20,
     "metadata": {},
     "output_type": "execute_result"
    }
   ],
   "source": [
    "df['power'] = (df['power_stamina'] + df['power_strength'] + df['power_long_shots'] + df['power_jumping'] + df['power_shot_power'])/5\n",
    "df['power']"
   ]
  },
  {
   "cell_type": "code",
   "execution_count": 9,
   "metadata": {},
   "outputs": [
    {
     "data": {
      "text/plain": [
       "Index(['power_stamina', 'power_strength', 'power_long_shots',\n",
       "       'mentality_aggression', 'mentality_interceptions',\n",
       "       'mentality_positioning', 'mentality_vision', 'mentality_penalties',\n",
       "       'mentality_composure', 'defending_marking_awareness',\n",
       "       'defending_standing_tackle', 'defending_sliding_tackle',\n",
       "       'goalkeeping_diving', 'goalkeeping_handling', 'goalkeeping_kicking',\n",
       "       'goalkeeping_positioning', 'goalkeeping_reflexes', 'goalkeeping_speed',\n",
       "       'ls', 'st', 'rs', 'lw', 'lf', 'cf', 'rf', 'rw', 'lam', 'cam', 'ram',\n",
       "       'lm'],\n",
       "      dtype='object')"
      ]
     },
     "execution_count": 9,
     "metadata": {},
     "output_type": "execute_result"
    }
   ],
   "source": [
    "df.columns[60:90]"
   ]
  },
  {
   "cell_type": "code",
   "execution_count": 33,
   "metadata": {},
   "outputs": [
    {
     "data": {
      "text/plain": [
       "0       NaN\n",
       "1       NaN\n",
       "2       NaN\n",
       "3       NaN\n",
       "4       NaN\n",
       "         ..\n",
       "19234   NaN\n",
       "19235   NaN\n",
       "19236   NaN\n",
       "19237   NaN\n",
       "19238   NaN\n",
       "Name: goalkeeping, Length: 19239, dtype: float64"
      ]
     },
     "execution_count": 33,
     "metadata": {},
     "output_type": "execute_result"
    }
   ],
   "source": [
    "df['goalkeeping'] = (df['goalkeeping_diving'] + df['goalkeeping_handling'] + df['goalkeeping_kicking'] + df['goalkeeping_positioning'] + df['goalkeeping_reflexes'] + df['goalkeeping_speed'])/6\n",
    "df['goalkeeping']"
   ]
  },
  {
   "cell_type": "code",
   "execution_count": 19,
   "metadata": {},
   "outputs": [
    {
     "data": {
      "text/plain": [
       "0        26.333333\n",
       "1        32.000000\n",
       "2        26.666667\n",
       "3        32.000000\n",
       "4        62.000000\n",
       "           ...    \n",
       "19234    43.000000\n",
       "19235    42.666667\n",
       "19236    43.333333\n",
       "19237    11.666667\n",
       "19238    33.666667\n",
       "Name: defending, Length: 19239, dtype: float64"
      ]
     },
     "execution_count": 19,
     "metadata": {},
     "output_type": "execute_result"
    }
   ],
   "source": [
    "df['defending'] = (df['defending_marking_awareness'] + df['defending_standing_tackle'] + df['defending_sliding_tackle'])/3\n",
    "df['defending']"
   ]
  },
  {
   "cell_type": "code",
   "execution_count": 15,
   "metadata": {},
   "outputs": [
    {
     "data": {
      "text/plain": [
       "0        73.833333\n",
       "1        80.666667\n",
       "2        74.333333\n",
       "3        77.000000\n",
       "4        82.666667\n",
       "           ...    \n",
       "19234    42.333333\n",
       "19235    46.500000\n",
       "19236    42.500000\n",
       "19237    38.500000\n",
       "19238    43.500000\n",
       "Name: mentality, Length: 19239, dtype: float64"
      ]
     },
     "execution_count": 15,
     "metadata": {},
     "output_type": "execute_result"
    }
   ],
   "source": [
    "df['mentality'] = (df['mentality_aggression'] + df['mentality_interceptions'] + df['mentality_positioning'] + df['mentality_vision'] + df['mentality_penalties'] + df['mentality_composure'])/6\n",
    "df['mentality']"
   ]
  },
  {
   "cell_type": "code",
   "execution_count": 43,
   "metadata": {},
   "outputs": [],
   "source": [
    "dash_df = df[['overall', 'mentality', 'attacking', 'power', 'defending', 'skill', 'movement', 'nation_flag_url', 'player_face_url', 'club_logo_url', 'player_url', 'short_name', 'long_name',]]"
   ]
  },
  {
   "cell_type": "code",
   "execution_count": 44,
   "metadata": {},
   "outputs": [],
   "source": [
    "dash_df.to_csv('data.csv')"
   ]
  },
  {
   "cell_type": "code",
   "execution_count": 45,
   "metadata": {},
   "outputs": [
    {
     "data": {
      "text/plain": [
       "Index(['lcm', 'cm', 'rcm', 'rm', 'lwb', 'ldm', 'cdm', 'rdm', 'rwb', 'lb',\n",
       "       'lcb', 'cb', 'rcb', 'rb', 'gk', 'player_face_url', 'club_logo_url',\n",
       "       'club_flag_url', 'nation_logo_url', 'nation_flag_url', 'mentality',\n",
       "       'power', 'movement', 'skill', 'attacking', 'goalkeeping',\n",
       "       'goalkeeping_'],\n",
       "      dtype='object')"
      ]
     },
     "execution_count": 45,
     "metadata": {},
     "output_type": "execute_result"
    }
   ],
   "source": [
    "df.columns[90:]"
   ]
  },
  {
   "cell_type": "code",
   "execution_count": null,
   "metadata": {},
   "outputs": [],
   "source": []
  }
 ],
 "metadata": {
  "kernelspec": {
   "display_name": "Python 3 (ipykernel)",
   "language": "python",
   "name": "python3"
  },
  "language_info": {
   "codemirror_mode": {
    "name": "ipython",
    "version": 3
   },
   "file_extension": ".py",
   "mimetype": "text/x-python",
   "name": "python",
   "nbconvert_exporter": "python",
   "pygments_lexer": "ipython3",
   "version": "3.9.12"
  },
  "vscode": {
   "interpreter": {
    "hash": "916dbcbb3f70747c44a77c7bcd40155683ae19c65e1c03b4aa3499c5328201f1"
   }
  }
 },
 "nbformat": 4,
 "nbformat_minor": 2
}
